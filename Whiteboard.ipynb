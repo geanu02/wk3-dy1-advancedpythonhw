{
 "cells": [
  {
   "cell_type": "markdown",
   "id": "3c8c03af",
   "metadata": {},
   "source": [
    "# Create a function name all_non_consecutive\n",
    "\n",
    "# E.g., if we have an array [1,2,3,4,6,7,8,15,16] then 6 and 15 are non-consecutive.\n",
    "\n",
    "# You should return the results as an array of objects with two values i: <the index of the non-consecutive number> and n: <the non-consecutive number>.\n",
    "\n",
    "# E.g., for the above array the result should be:\n",
    "\n",
    "# [\n",
    "#   {'i': 4, 'n': 6},\n",
    "#   {'i': 7, 'n': 15}\n",
    "# ]\n",
    "# If the whole array is consecutive or has one element then return an empty array.\n",
    "\n",
    "# The array elements will all be numbers. The numbers will also all be unique and in ascending order. The numbers could be positive and/or negetive and the gap could be larger than one."
   ]
  },
  {
   "cell_type": "code",
   "execution_count": 10,
   "id": "e3db307c",
   "metadata": {},
   "outputs": [
    {
     "name": "stdout",
     "output_type": "stream",
     "text": [
      "4 6\n",
      "8 15\n",
      "[{'i': 4, 'n': 6}, {'i': 7, 'n': 15}]\n"
     ]
    }
   ],
   "source": [
    "def all_non_consecutive(list_name):\n",
    "    return_list = []\n",
    "    for i in range(len(list_name) - 1):\n",
    "        if list_name[i] + 1 != list_name[i + 1]:\n",
    "            item_dict = {'i': i+1, 'n': list_name[i+1]}\n",
    "            return_list.append(item_dict)\n",
    "    return return_list\n",
    "        \n",
    "sample_list = [1, 2, 3, 4, 6, 7, 8, 15, 16]\n",
    "sample_list1 = []\n",
    "sample_list2 = [1]\n",
    "print(all_non_consecutive(sample_list))"
   ]
  },
  {
   "cell_type": "code",
   "execution_count": null,
   "id": "85e3f8a7",
   "metadata": {},
   "outputs": [],
   "source": [
    "def find_non_consec(alist):\n",
    "    return [{'i':i, 'n':n} for i, n in enumerate(alist[1:],start=1) if n != alist[i-1]+1]"
   ]
  }
 ],
 "metadata": {
  "kernelspec": {
   "display_name": "Python 3 (ipykernel)",
   "language": "python",
   "name": "python3"
  },
  "language_info": {
   "codemirror_mode": {
    "name": "ipython",
    "version": 3
   },
   "file_extension": ".py",
   "mimetype": "text/x-python",
   "name": "python",
   "nbconvert_exporter": "python",
   "pygments_lexer": "ipython3",
   "version": "3.9.13"
  }
 },
 "nbformat": 4,
 "nbformat_minor": 5
}
